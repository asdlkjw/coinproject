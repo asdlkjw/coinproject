{
  "nbformat": 4,
  "nbformat_minor": 0,
  "metadata": {
    "colab": {
      "name": "binance.ipynb",
      "provenance": [],
      "collapsed_sections": [],
      "machine_shape": "hm"
    },
    "kernelspec": {
      "display_name": "Python 3",
      "name": "python3"
    },
    "language_info": {
      "name": "python"
    }
  },
  "cells": [
    {
      "cell_type": "code",
      "metadata": {
        "colab": {
          "base_uri": "https://localhost:8080/"
        },
        "id": "ePIBLC0epz-L",
        "outputId": "d2851d57-4380-4684-faf5-125b77000378"
      },
      "source": [
        "from google.colab import drive\n",
        "drive.mount('/content/drive')"
      ],
      "execution_count": 1,
      "outputs": [
        {
          "output_type": "stream",
          "name": "stdout",
          "text": [
            "Drive already mounted at /content/drive; to attempt to forcibly remount, call drive.mount(\"/content/drive\", force_remount=True).\n"
          ]
        }
      ]
    },
    {
      "cell_type": "code",
      "metadata": {
        "colab": {
          "base_uri": "https://localhost:8080/",
          "height": 1000
        },
        "id": "08TxdaCYkCSe",
        "outputId": "86d73798-1551-42c1-f5c9-040a39315ef3"
      },
      "source": [
        "pip install ccxt"
      ],
      "execution_count": 2,
      "outputs": [
        {
          "output_type": "stream",
          "name": "stdout",
          "text": [
            "Collecting ccxt\n",
            "  Downloading ccxt-1.76.61-py2.py3-none-any.whl (2.5 MB)\n",
            "\u001b[K     |████████████████████████████████| 2.5 MB 5.1 MB/s \n",
            "\u001b[?25hCollecting aiodns>=1.1.1\n",
            "  Downloading aiodns-3.0.0-py3-none-any.whl (5.0 kB)\n",
            "Requirement already satisfied: certifi>=2018.1.18 in /usr/local/lib/python3.7/dist-packages (from ccxt) (2021.10.8)\n",
            "Requirement already satisfied: requests>=2.18.4 in /usr/local/lib/python3.7/dist-packages (from ccxt) (2.23.0)\n",
            "Collecting setuptools>=60.9.0\n",
            "  Downloading setuptools-60.10.0-py3-none-any.whl (1.1 MB)\n",
            "\u001b[K     |████████████████████████████████| 1.1 MB 52.3 MB/s \n",
            "\u001b[?25hCollecting cryptography>=2.6.1\n",
            "  Downloading cryptography-36.0.2-cp36-abi3-manylinux_2_24_x86_64.whl (3.6 MB)\n",
            "\u001b[K     |████████████████████████████████| 3.6 MB 51.1 MB/s \n",
            "\u001b[?25hCollecting yarl==1.7.2\n",
            "  Downloading yarl-1.7.2-cp37-cp37m-manylinux_2_5_x86_64.manylinux1_x86_64.manylinux_2_12_x86_64.manylinux2010_x86_64.whl (271 kB)\n",
            "\u001b[K     |████████████████████████████████| 271 kB 66.5 MB/s \n",
            "\u001b[?25hCollecting aiohttp>=3.8\n",
            "  Downloading aiohttp-3.8.1-cp37-cp37m-manylinux_2_5_x86_64.manylinux1_x86_64.manylinux_2_12_x86_64.manylinux2010_x86_64.whl (1.1 MB)\n",
            "\u001b[K     |████████████████████████████████| 1.1 MB 58.2 MB/s \n",
            "\u001b[?25hRequirement already satisfied: typing-extensions>=3.7.4 in /usr/local/lib/python3.7/dist-packages (from yarl==1.7.2->ccxt) (3.10.0.2)\n",
            "Collecting multidict>=4.0\n",
            "  Downloading multidict-6.0.2-cp37-cp37m-manylinux_2_17_x86_64.manylinux2014_x86_64.whl (94 kB)\n",
            "\u001b[K     |████████████████████████████████| 94 kB 2.7 MB/s \n",
            "\u001b[?25hRequirement already satisfied: idna>=2.0 in /usr/local/lib/python3.7/dist-packages (from yarl==1.7.2->ccxt) (2.10)\n",
            "Collecting pycares>=4.0.0\n",
            "  Downloading pycares-4.1.2-cp37-cp37m-manylinux_2_5_x86_64.manylinux1_x86_64.manylinux_2_12_x86_64.manylinux2010_x86_64.whl (291 kB)\n",
            "\u001b[K     |████████████████████████████████| 291 kB 53.8 MB/s \n",
            "\u001b[?25hCollecting frozenlist>=1.1.1\n",
            "  Downloading frozenlist-1.3.0-cp37-cp37m-manylinux_2_5_x86_64.manylinux1_x86_64.manylinux_2_17_x86_64.manylinux2014_x86_64.whl (144 kB)\n",
            "\u001b[K     |████████████████████████████████| 144 kB 62.0 MB/s \n",
            "\u001b[?25hCollecting async-timeout<5.0,>=4.0.0a3\n",
            "  Downloading async_timeout-4.0.2-py3-none-any.whl (5.8 kB)\n",
            "Collecting asynctest==0.13.0\n",
            "  Downloading asynctest-0.13.0-py3-none-any.whl (26 kB)\n",
            "Requirement already satisfied: charset-normalizer<3.0,>=2.0 in /usr/local/lib/python3.7/dist-packages (from aiohttp>=3.8->ccxt) (2.0.12)\n",
            "Requirement already satisfied: attrs>=17.3.0 in /usr/local/lib/python3.7/dist-packages (from aiohttp>=3.8->ccxt) (21.4.0)\n",
            "Collecting aiosignal>=1.1.2\n",
            "  Downloading aiosignal-1.2.0-py3-none-any.whl (8.2 kB)\n",
            "Requirement already satisfied: cffi>=1.12 in /usr/local/lib/python3.7/dist-packages (from cryptography>=2.6.1->ccxt) (1.15.0)\n",
            "Requirement already satisfied: pycparser in /usr/local/lib/python3.7/dist-packages (from cffi>=1.12->cryptography>=2.6.1->ccxt) (2.21)\n",
            "Requirement already satisfied: chardet<4,>=3.0.2 in /usr/local/lib/python3.7/dist-packages (from requests>=2.18.4->ccxt) (3.0.4)\n",
            "Requirement already satisfied: urllib3!=1.25.0,!=1.25.1,<1.26,>=1.21.1 in /usr/local/lib/python3.7/dist-packages (from requests>=2.18.4->ccxt) (1.24.3)\n",
            "Installing collected packages: multidict, frozenlist, yarl, pycares, asynctest, async-timeout, aiosignal, setuptools, cryptography, aiohttp, aiodns, ccxt\n",
            "  Attempting uninstall: setuptools\n",
            "    Found existing installation: setuptools 57.4.0\n",
            "    Uninstalling setuptools-57.4.0:\n",
            "      Successfully uninstalled setuptools-57.4.0\n",
            "\u001b[31mERROR: pip's dependency resolver does not currently take into account all the packages that are installed. This behaviour is the source of the following dependency conflicts.\n",
            "tensorflow 2.8.0 requires tf-estimator-nightly==2.8.0.dev2021122109, which is not installed.\n",
            "datascience 0.10.6 requires folium==0.2.1, but you have folium 0.8.3 which is incompatible.\u001b[0m\n",
            "Successfully installed aiodns-3.0.0 aiohttp-3.8.1 aiosignal-1.2.0 async-timeout-4.0.2 asynctest-0.13.0 ccxt-1.76.61 cryptography-36.0.2 frozenlist-1.3.0 multidict-6.0.2 pycares-4.1.2 setuptools-60.10.0 yarl-1.7.2\n"
          ]
        },
        {
          "output_type": "display_data",
          "data": {
            "application/vnd.colab-display-data+json": {
              "pip_warning": {
                "packages": [
                  "pkg_resources"
                ]
              }
            }
          },
          "metadata": {}
        }
      ]
    },
    {
      "cell_type": "code",
      "metadata": {
        "id": "o8IyQQm0erIg"
      },
      "source": [
        "import ccxt, sqlite3, argparse, time, os\n",
        "import pandas as pd"
      ],
      "execution_count": 3,
      "outputs": []
    },
    {
      "cell_type": "code",
      "metadata": {
        "colab": {
          "base_uri": "https://localhost:8080/"
        },
        "id": "uQ_BSY82p9mk",
        "outputId": "11968848-31a0-485f-f37e-a49717cd783c"
      },
      "source": [
        "cd /content/drive/MyDrive"
      ],
      "execution_count": 4,
      "outputs": [
        {
          "output_type": "stream",
          "name": "stdout",
          "text": [
            "/content/drive/MyDrive\n"
          ]
        }
      ]
    },
    {
      "cell_type": "code",
      "metadata": {
        "id": "lTrjXB-me_R9"
      },
      "source": [
        "from Binance_CCXT import mainl"
      ],
      "execution_count": 5,
      "outputs": []
    },
    {
      "cell_type": "code",
      "metadata": {
        "id": "0Z10OoJ7oIPL",
        "colab": {
          "base_uri": "https://localhost:8080/"
        },
        "outputId": "37cbbb9b-68e6-4d06-a9c7-944d1243436e"
      },
      "source": [
        "%run ./Binance_CCXT/mainl.py\n"
      ],
      "execution_count": 6,
      "outputs": [
        {
          "output_type": "stream",
          "name": "stdout",
          "text": [
            "downloading data for 152 symbols : ['BTC/USDT', 'ETH/USDT', 'BCH/USDT', 'XRP/USDT', 'EOS/USDT', 'LTC/USDT', 'TRX/USDT', 'ETC/USDT', 'LINK/USDT', 'XLM/USDT', 'ADA/USDT', 'XMR/USDT', 'DASH/USDT', 'ZEC/USDT', 'XTZ/USDT', 'BNB/USDT', 'ATOM/USDT', 'ONT/USDT', 'IOTA/USDT', 'BAT/USDT', 'VET/USDT', 'NEO/USDT', 'QTUM/USDT', 'IOST/USDT', 'THETA/USDT', 'ALGO/USDT', 'ZIL/USDT', 'KNC/USDT', 'ZRX/USDT', 'COMP/USDT', 'OMG/USDT', 'DOGE/USDT', 'SXP/USDT', 'KAVA/USDT', 'BAND/USDT', 'RLC/USDT', 'WAVES/USDT', 'MKR/USDT', 'SNX/USDT', 'DOT/USDT', 'DEFI/USDT', 'YFI/USDT', 'BAL/USDT', 'CRV/USDT', 'TRB/USDT', 'YFII/USDT', 'RUNE/USDT', 'SUSHI/USDT', 'SRM/USDT', 'EGLD/USDT', 'SOL/USDT', 'ICX/USDT', 'STORJ/USDT', 'BLZ/USDT', 'UNI/USDT', 'AVAX/USDT', 'FTM/USDT', 'HNT/USDT', 'ENJ/USDT', 'FLM/USDT', 'TOMO/USDT', 'REN/USDT', 'KSM/USDT', 'NEAR/USDT', 'AAVE/USDT', 'FIL/USDT', 'RSR/USDT', 'LRC/USDT', 'MATIC/USDT', 'OCEAN/USDT', 'CVC/USDT', 'BEL/USDT', 'CTK/USDT', 'AXS/USDT', 'ALPHA/USDT', 'ZEN/USDT', 'SKL/USDT', 'GRT/USDT', '1INCH/USDT', 'BTC/BUSD', 'AKRO/USDT', 'CHZ/USDT', 'SAND/USDT', 'ANKR/USDT', 'LUNA/USDT', 'BTS/USDT', 'LIT/USDT', 'UNFI/USDT', 'DODO/USDT', 'REEF/USDT', 'RVN/USDT', 'SFP/USDT', 'XEM/USDT', 'BTCSTUSDT', 'COTI/USDT', 'CHR/USDT', 'MANA/USDT', 'ALICE/USDT', 'HBAR/USDT', 'ONE/USDT', 'LINA/USDT', 'STMX/USDT', 'DENT/USDT', 'CELR/USDT', 'HOT/USDT', 'MTL/USDT', 'OGN/USDT', 'NKN/USDT', 'SC/USDT', 'DGB/USDT', '1000SHIB/USDT', 'ICP/USDT', 'BAKE/USDT', 'GTC/USDT', 'ETH/BUSD', 'BTCDOM/USDT', 'TLM/USDT', 'BNB/BUSD', 'ADA/BUSD', 'XRP/BUSD', 'IOTX/USDT', 'DOGE/BUSD', 'AUDIO/USDT', 'RAY/USDT', 'C98/USDT', 'MASK/USDT', 'ATA/USDT', 'SOL/BUSD', 'FTT/BUSD', 'DYDX/USDT', '1000XEC/USDT', 'GALA/USDT', 'CELO/USDT', 'AR/USDT', 'KLAY/USDT', 'ARPA/USDT', 'CTSI/USDT', 'LPT/USDT', 'ENS/USDT', 'BTCUSDT_220325', 'ETHUSDT_220325', 'PEOPLE/USDT', 'ANT/USDT', 'ROSE/USDT', 'DUSK/USDT', '1000BTTC/USDT', 'FLOW/USDT', 'IMX/USDT', 'API3/USDT', 'ANC/USDT', 'GMT/USDT', 'APE/USDT']\n",
            "downloaded 46362 rows for BTC/USDT in 64 seconds, download speed is 729 row per second\n",
            "downloaded 217227 rows for ETH/USDT in 79 seconds, download speed is 2746 row per second\n",
            "downloaded 217228 rows for BCH/USDT in 79 seconds, download speed is 2744 row per second\n",
            "downloaded 217229 rows for XRP/USDT in 80 seconds, download speed is 2727 row per second\n",
            "downloaded 217231 rows for EOS/USDT in 80 seconds, download speed is 2725 row per second\n",
            "downloaded 217232 rows for LTC/USDT in 77 seconds, download speed is 2810 row per second\n",
            "downloaded 217233 rows for TRX/USDT in 81 seconds, download speed is 2686 row per second\n",
            "downloaded 217235 rows for ETC/USDT in 77 seconds, download speed is 2817 row per second\n",
            "downloaded 217236 rows for LINK/USDT in 81 seconds, download speed is 2685 row per second\n",
            "downloaded 217237 rows for XLM/USDT in 78 seconds, download speed is 2795 row per second\n",
            "downloaded 217239 rows for ADA/USDT in 77 seconds, download speed is 2814 row per second\n",
            "downloaded 217240 rows for XMR/USDT in 81 seconds, download speed is 2681 row per second\n",
            "downloaded 217241 rows for DASH/USDT in 76 seconds, download speed is 2856 row per second\n",
            "downloaded 217242 rows for ZEC/USDT in 81 seconds, download speed is 2693 row per second\n",
            "downloaded 217243 rows for XTZ/USDT in 78 seconds, download speed is 2802 row per second\n",
            "downloaded 217244 rows for BNB/USDT in 78 seconds, download speed is 2786 row per second\n",
            "downloaded 217245 rows for ATOM/USDT in 80 seconds, download speed is 2726 row per second\n",
            "downloaded 217247 rows for ONT/USDT in 78 seconds, download speed is 2787 row per second\n",
            "downloaded 217248 rows for IOTA/USDT in 78 seconds, download speed is 2770 row per second\n",
            "downloaded 217249 rows for BAT/USDT in 82 seconds, download speed is 2660 row per second\n",
            "downloaded 217251 rows for VET/USDT in 77 seconds, download speed is 2836 row per second\n",
            "downloaded 217252 rows for NEO/USDT in 79 seconds, download speed is 2761 row per second\n",
            "downloaded 217253 rows for QTUM/USDT in 82 seconds, download speed is 2652 row per second\n",
            "downloaded 217255 rows for IOST/USDT in 77 seconds, download speed is 2811 row per second\n",
            "downloaded 217256 rows for THETA/USDT in 80 seconds, download speed is 2707 row per second\n",
            "downloaded 217257 rows for ALGO/USDT in 77 seconds, download speed is 2826 row per second\n",
            "downloaded 217259 rows for ZIL/USDT in 79 seconds, download speed is 2747 row per second\n",
            "downloaded 217260 rows for KNC/USDT in 78 seconds, download speed is 2778 row per second\n",
            "downloaded 217260 rows for ZRX/USDT in 78 seconds, download speed is 2777 row per second\n",
            "downloaded 217262 rows for COMP/USDT in 82 seconds, download speed is 2651 row per second\n",
            "downloaded 217263 rows for OMG/USDT in 77 seconds, download speed is 2823 row per second\n",
            "downloaded 217264 rows for DOGE/USDT in 78 seconds, download speed is 2800 row per second\n",
            "downloaded 217266 rows for SXP/USDT in 82 seconds, download speed is 2654 row per second\n",
            "downloaded 217267 rows for KAVA/USDT in 78 seconds, download speed is 2779 row per second\n",
            "downloaded 217268 rows for BAND/USDT in 75 seconds, download speed is 2881 row per second\n",
            "downloaded 217270 rows for RLC/USDT in 80 seconds, download speed is 2732 row per second\n",
            "downloaded 217271 rows for WAVES/USDT in 78 seconds, download speed is 2781 row per second\n",
            "downloaded 217272 rows for MKR/USDT in 79 seconds, download speed is 2755 row per second\n",
            "downloaded 217274 rows for SNX/USDT in 80 seconds, download speed is 2730 row per second\n",
            "downloaded 217275 rows for DOT/USDT in 78 seconds, download speed is 2799 row per second\n",
            "downloaded 217276 rows for DEFI/USDT in 80 seconds, download speed is 2725 row per second\n",
            "downloaded 217277 rows for YFI/USDT in 77 seconds, download speed is 2808 row per second\n",
            "downloaded 217279 rows for BAL/USDT in 78 seconds, download speed is 2800 row per second\n",
            "downloaded 217279 rows for CRV/USDT in 78 seconds, download speed is 2773 row per second\n",
            "downloaded 217280 rows for TRB/USDT in 77 seconds, download speed is 2823 row per second\n",
            "downloaded 217282 rows for YFII/USDT in 77 seconds, download speed is 2823 row per second\n",
            "downloaded 217283 rows for RUNE/USDT in 81 seconds, download speed is 2682 row per second\n",
            "downloaded 217284 rows for SUSHI/USDT in 76 seconds, download speed is 2874 row per second\n",
            "downloaded 217286 rows for SRM/USDT in 82 seconds, download speed is 2652 row per second\n",
            "downloaded 217287 rows for EGLD/USDT in 76 seconds, download speed is 2844 row per second\n",
            "downloaded 217288 rows for SOL/USDT in 79 seconds, download speed is 2752 row per second\n",
            "downloaded 217290 rows for ICX/USDT in 82 seconds, download speed is 2649 row per second\n",
            "downloaded 217291 rows for STORJ/USDT in 77 seconds, download speed is 2813 row per second\n",
            "downloaded 217292 rows for BLZ/USDT in 79 seconds, download speed is 2746 row per second\n",
            "downloaded 217294 rows for UNI/USDT in 77 seconds, download speed is 2815 row per second\n",
            "downloaded 217295 rows for AVAX/USDT in 78 seconds, download speed is 2795 row per second\n",
            "downloaded 217296 rows for FTM/USDT in 83 seconds, download speed is 2623 row per second\n",
            "downloaded 217298 rows for HNT/USDT in 77 seconds, download speed is 2824 row per second\n",
            "downloaded 217299 rows for ENJ/USDT in 78 seconds, download speed is 2800 row per second\n",
            "downloaded 217299 rows for FLM/USDT in 80 seconds, download speed is 2713 row per second\n",
            "downloaded 217300 rows for TOMO/USDT in 78 seconds, download speed is 2772 row per second\n",
            "downloaded 217302 rows for REN/USDT in 76 seconds, download speed is 2851 row per second\n",
            "downloaded 217303 rows for KSM/USDT in 83 seconds, download speed is 2631 row per second\n",
            "downloaded 217304 rows for NEAR/USDT in 78 seconds, download speed is 2797 row per second\n",
            "downloaded 217306 rows for AAVE/USDT in 79 seconds, download speed is 2748 row per second\n",
            "downloaded 217307 rows for FIL/USDT in 78 seconds, download speed is 2794 row per second\n",
            "downloaded 217308 rows for RSR/USDT in 79 seconds, download speed is 2745 row per second\n",
            "downloaded 217310 rows for LRC/USDT in 80 seconds, download speed is 2733 row per second\n",
            "downloaded 217311 rows for MATIC/USDT in 78 seconds, download speed is 2793 row per second\n",
            "downloaded 217312 rows for OCEAN/USDT in 88 seconds, download speed is 2465 row per second\n",
            "downloaded 217314 rows for CVC/USDT in 82 seconds, download speed is 2645 row per second\n",
            "downloaded 217315 rows for BEL/USDT in 77 seconds, download speed is 2809 row per second\n",
            "downloaded 217316 rows for CTK/USDT in 81 seconds, download speed is 2693 row per second\n",
            "downloaded 217318 rows for AXS/USDT in 81 seconds, download speed is 2700 row per second\n",
            "downloaded 217319 rows for ALPHA/USDT in 77 seconds, download speed is 2808 row per second\n",
            "downloaded 217319 rows for ZEN/USDT in 81 seconds, download speed is 2698 row per second\n",
            "downloaded 217321 rows for SKL/USDT in 80 seconds, download speed is 2720 row per second\n",
            "downloaded 217322 rows for GRT/USDT in 78 seconds, download speed is 2777 row per second\n",
            "downloaded 217323 rows for 1INCH/USDT in 82 seconds, download speed is 2640 row per second\n",
            "downloaded 217325 rows for BTC/BUSD in 80 seconds, download speed is 2725 row per second\n",
            "downloaded 217326 rows for AKRO/USDT in 80 seconds, download speed is 2726 row per second\n",
            "downloaded 217327 rows for CHZ/USDT in 78 seconds, download speed is 2774 row per second\n",
            "downloaded 217329 rows for SAND/USDT in 81 seconds, download speed is 2677 row per second\n",
            "downloaded 217330 rows for ANKR/USDT in 85 seconds, download speed is 2570 row per second\n",
            "downloaded 217332 rows for LUNA/USDT in 79 seconds, download speed is 2751 row per second\n",
            "downloaded 217333 rows for BTS/USDT in 84 seconds, download speed is 2597 row per second\n",
            "downloaded 217334 rows for LIT/USDT in 77 seconds, download speed is 2805 row per second\n",
            "downloaded 217336 rows for UNFI/USDT in 80 seconds, download speed is 2715 row per second\n",
            "downloaded 217337 rows for DODO/USDT in 83 seconds, download speed is 2617 row per second\n",
            "downloaded 217338 rows for REEF/USDT in 78 seconds, download speed is 2783 row per second\n",
            "downloaded 217340 rows for RVN/USDT in 77 seconds, download speed is 2813 row per second\n",
            "downloaded 217341 rows for SFP/USDT in 83 seconds, download speed is 2605 row per second\n",
            "downloaded 217342 rows for XEM/USDT in 78 seconds, download speed is 2790 row per second\n",
            "downloaded 217344 rows for BTCSTUSDT in 78 seconds, download speed is 2797 row per second\n",
            "downloaded 217344 rows for COTI/USDT in 80 seconds, download speed is 2731 row per second\n",
            "downloaded 217345 rows for CHR/USDT in 77 seconds, download speed is 2815 row per second\n",
            "downloaded 217347 rows for MANA/USDT in 83 seconds, download speed is 2620 row per second\n",
            "downloaded 217348 rows for ALICE/USDT in 80 seconds, download speed is 2728 row per second\n",
            "downloaded 217349 rows for HBAR/USDT in 78 seconds, download speed is 2775 row per second\n",
            "downloaded 217351 rows for ONE/USDT in 82 seconds, download speed is 2661 row per second\n",
            "downloaded 217352 rows for LINA/USDT in 79 seconds, download speed is 2752 row per second\n",
            "downloaded 217353 rows for STMX/USDT in 77 seconds, download speed is 2814 row per second\n",
            "downloaded 217355 rows for DENT/USDT in 83 seconds, download speed is 2611 row per second\n",
            "downloaded 217356 rows for CELR/USDT in 79 seconds, download speed is 2740 row per second\n",
            "downloaded 217357 rows for HOT/USDT in 82 seconds, download speed is 2647 row per second\n",
            "downloaded 217359 rows for MTL/USDT in 81 seconds, download speed is 2691 row per second\n",
            "downloaded 217360 rows for OGN/USDT in 79 seconds, download speed is 2739 row per second\n",
            "downloaded 217361 rows for NKN/USDT in 82 seconds, download speed is 2646 row per second\n",
            "downloaded 217363 rows for SC/USDT in 82 seconds, download speed is 2637 row per second\n",
            "downloaded 217364 rows for DGB/USDT in 82 seconds, download speed is 2648 row per second\n",
            "downloaded 217366 rows for 1000SHIB/USDT in 81 seconds, download speed is 2686 row per second\n",
            "downloaded 217367 rows for ICP/USDT in 82 seconds, download speed is 2657 row per second\n",
            "downloaded 217367 rows for BAKE/USDT in 81 seconds, download speed is 2675 row per second\n",
            "downloaded 217369 rows for GTC/USDT in 79 seconds, download speed is 2744 row per second\n",
            "downloaded 217370 rows for ETH/BUSD in 84 seconds, download speed is 2579 row per second\n",
            "downloaded 217371 rows for BTCDOM/USDT in 78 seconds, download speed is 2800 row per second\n",
            "downloaded 217373 rows for TLM/USDT in 80 seconds, download speed is 2707 row per second\n",
            "downloaded 217374 rows for BNB/BUSD in 84 seconds, download speed is 2580 row per second\n",
            "downloaded 217375 rows for ADA/BUSD in 81 seconds, download speed is 2692 row per second\n",
            "downloaded 217377 rows for XRP/BUSD in 84 seconds, download speed is 2590 row per second\n",
            "downloaded 217378 rows for IOTX/USDT in 82 seconds, download speed is 2650 row per second\n",
            "downloaded 217380 rows for DOGE/BUSD in 87 seconds, download speed is 2512 row per second\n",
            "downloaded 217381 rows for AUDIO/USDT in 82 seconds, download speed is 2664 row per second\n",
            "downloaded 217382 rows for RAY/USDT in 80 seconds, download speed is 2734 row per second\n",
            "downloaded 217384 rows for C98/USDT in 84 seconds, download speed is 2587 row per second\n",
            "downloaded 217385 rows for MASK/USDT in 78 seconds, download speed is 2779 row per second\n",
            "downloaded 217386 rows for ATA/USDT in 84 seconds, download speed is 2599 row per second\n",
            "downloaded 217388 rows for SOL/BUSD in 81 seconds, download speed is 2678 row per second\n",
            "downloaded 217389 rows for FTT/BUSD in 87 seconds, download speed is 2497 row per second\n",
            "downloaded 217391 rows for DYDX/USDT in 83 seconds, download speed is 2609 row per second\n",
            "downloaded 217391 rows for 1000XEC/USDT in 82 seconds, download speed is 2650 row per second\n",
            "downloaded 217392 rows for GALA/USDT in 86 seconds, download speed is 2524 row per second\n",
            "downloaded 217394 rows for CELO/USDT in 82 seconds, download speed is 2653 row per second\n",
            "downloaded 217395 rows for AR/USDT in 87 seconds, download speed is 2490 row per second\n",
            "downloaded 217397 rows for KLAY/USDT in 80 seconds, download speed is 2717 row per second\n",
            "downloaded 217398 rows for ARPA/USDT in 88 seconds, download speed is 2473 row per second\n",
            "downloaded 209355 rows for CTSI/USDT in 81 seconds, download speed is 2577 row per second\n",
            "downloaded 186317 rows for LPT/USDT in 75 seconds, download speed is 2476 row per second\n",
            "downloaded 158958 rows for ENS/USDT in 63 seconds, download speed is 2516 row per second\n",
            "downloaded 124398 rows for BTCUSDT_220325 in 50 seconds, download speed is 2506 row per second\n",
            "downloaded 124396 rows for ETHUSDT_220325 in 48 seconds, download speed is 2592 row per second\n",
            "downloaded 124370 rows for PEOPLE/USDT in 48 seconds, download speed is 2580 row per second\n",
            "downloaded 120050 rows for ANT/USDT in 45 seconds, download speed is 2674 row per second\n",
            "downloaded 114322 rows for ROSE/USDT in 43 seconds, download speed is 2646 row per second\n",
            "downloaded 104242 rows for DUSK/USDT in 42 seconds, download speed is 2503 row per second\n",
            "downloaded 76883 rows for 1000BTTC/USDT in 31 seconds, download speed is 2510 row per second\n",
            "downloaded 55283 rows for FLOW/USDT in 22 seconds, download speed is 2559 row per second\n",
            "downloaded 53843 rows for IMX/USDT in 20 seconds, download speed is 2749 row per second\n",
            "downloaded 38003 rows for API3/USDT in 17 seconds, download speed is 2297 row per second\n",
            "downloaded 17844 rows for ANC/USDT in 7 seconds, download speed is 2514 row per second\n",
            "downloaded 7734 rows for GMT/USDT in 3 seconds, download speed is 2418 row per second\n",
            "downloaded 4194 rows for APE/USDT in 2 seconds, download speed is 2611 row per second\n"
          ]
        }
      ]
    },
    {
      "cell_type": "markdown",
      "metadata": {
        "id": "EAH24-Zqv7Me"
      },
      "source": [
        "'"
      ]
    },
    {
      "cell_type": "code",
      "metadata": {
        "id": "iJ8-3m6eP94d",
        "colab": {
          "base_uri": "https://localhost:8080/",
          "height": 35
        },
        "outputId": "f9ff5cfd-b21d-4f80-f95a-f3bd16552e2e"
      },
      "source": [
        "pwd"
      ],
      "execution_count": null,
      "outputs": [
        {
          "output_type": "execute_result",
          "data": {
            "application/vnd.google.colaboratory.intrinsic+json": {
              "type": "string"
            },
            "text/plain": [
              "'/content/drive/My Drive'"
            ]
          },
          "metadata": {},
          "execution_count": 8
        }
      ]
    },
    {
      "cell_type": "code",
      "metadata": {
        "id": "JsQ8uneiwVqx"
      },
      "source": [
        ""
      ],
      "execution_count": null,
      "outputs": []
    }
  ]
}